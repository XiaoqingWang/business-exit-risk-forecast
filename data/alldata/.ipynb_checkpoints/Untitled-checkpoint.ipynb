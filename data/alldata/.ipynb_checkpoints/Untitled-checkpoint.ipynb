{
 "cells": [
  {
   "cell_type": "code",
   "execution_count": 1,
   "metadata": {
    "collapsed": true
   },
   "outputs": [],
   "source": [
    "import numpy as np\n",
    "import pandas as pd"
   ]
  },
  {
   "cell_type": "code",
   "execution_count": 2,
   "metadata": {
    "collapsed": true
   },
   "outputs": [],
   "source": [
    "df_all = pd.read_csv(\"./df_data_plus_all.csv\")"
   ]
  },
  {
   "cell_type": "code",
   "execution_count": 12,
   "metadata": {
    "collapsed": true
   },
   "outputs": [],
   "source": [
    "df_all.replace([np.inf, -np.inf], 0,inplace=True)\n",
    "df_all = df_all.fillna(0)"
   ]
  },
  {
   "cell_type": "code",
   "execution_count": 4,
   "metadata": {
    "collapsed": true
   },
   "outputs": [],
   "source": [
    "# 对所有的cnt，avg,rate，和diff求和添加新的最后特征"
   ]
  },
  {
   "cell_type": "code",
   "execution_count": 26,
   "metadata": {
    "collapsed": true
   },
   "outputs": [],
   "source": [
    "column = list(df_all.columns)"
   ]
  },
  {
   "cell_type": "code",
   "execution_count": 27,
   "metadata": {
    "collapsed": false
   },
   "outputs": [],
   "source": [
    "# column"
   ]
  },
  {
   "cell_type": "code",
   "execution_count": 28,
   "metadata": {
    "collapsed": false
   },
   "outputs": [],
   "source": [
    "cnt = []\n",
    "avg = []\n",
    "rate = []\n",
    "diff = []\n",
    "for feature in column:\n",
    "    if 'CNT' in feature:\n",
    "        cnt.append(feature)\n",
    "    if 'AVG' in feature:\n",
    "        avg.append(feature)\n",
    "    if 'RATE' in feature:\n",
    "        rate.append(feature)\n",
    "    if 'DIFF' in feature:\n",
    "        diff.append(feature)\n",
    "    \n",
    "\n",
    "column.remove('EID')"
   ]
  },
  {
   "cell_type": "code",
   "execution_count": 29,
   "metadata": {
    "collapsed": true
   },
   "outputs": [],
   "source": [
    "df_all['CNT_SUM'] = df_all[cnt].sum(axis=1)\n",
    "df_all['AVG_SUM'] = df_all[avg].sum(axis=1)\n",
    "df_all['RATE_SUM'] = df_all[rate].sum(axis=1)\n",
    "df_all['DIFF_SUM'] = df_all[diff].sum(axis=1)\n",
    "df_all['ALL_SUM'] = df_all[column].sum(axis=1)\n",
    "\n"
   ]
  },
  {
   "cell_type": "code",
   "execution_count": 30,
   "metadata": {
    "collapsed": false,
    "scrolled": true
   },
   "outputs": [
    {
     "data": {
      "text/plain": [
       "0         2.538782e+09\n",
       "1         5.529720e+08\n",
       "2         7.559198e+08\n",
       "3         4.965490e+08\n",
       "4         3.964975e+10\n",
       "5         2.739561e+09\n",
       "6         8.837375e+08\n",
       "7         5.057685e+08\n",
       "8         4.447506e+08\n",
       "9         2.739540e+09\n",
       "10        7.246780e+08\n",
       "11        2.740358e+09\n",
       "12        2.739435e+09\n",
       "13        7.986171e+08\n",
       "14        1.446706e+09\n",
       "15        2.739602e+09\n",
       "16        1.833468e+09\n",
       "17        2.018501e+09\n",
       "18        9.937429e+08\n",
       "19        5.185144e+07\n",
       "20        2.739508e+09\n",
       "21        1.346702e+09\n",
       "22        7.352188e+08\n",
       "23        7.447905e+08\n",
       "24        7.333477e+08\n",
       "25        7.268367e+08\n",
       "26        7.255395e+08\n",
       "27        7.380087e+08\n",
       "28        4.881649e+08\n",
       "29        7.732099e+08\n",
       "              ...     \n",
       "436768    5.669341e+08\n",
       "436769    4.822289e+08\n",
       "436770    5.670364e+08\n",
       "436771    2.422932e+09\n",
       "436772    2.423146e+09\n",
       "436773    2.422917e+09\n",
       "436774    5.671913e+08\n",
       "436775    5.671675e+08\n",
       "436776    2.018679e+09\n",
       "436777    2.422941e+09\n",
       "436778    5.784709e+08\n",
       "436779    8.903662e+08\n",
       "436780    4.818467e+08\n",
       "436781    1.130224e+09\n",
       "436782    4.821826e+08\n",
       "436783    4.372771e+08\n",
       "436784    2.423036e+09\n",
       "436785    1.029896e+09\n",
       "436786    3.790407e+10\n",
       "436787    4.822858e+08\n",
       "436788    1.875459e+08\n",
       "436789    4.856779e+08\n",
       "436790    2.423238e+09\n",
       "436791    2.423020e+09\n",
       "436792    4.822319e+08\n",
       "436793    5.670132e+08\n",
       "436794    4.822213e+08\n",
       "436795    4.439318e+08\n",
       "436796    4.441885e+08\n",
       "436797    4.819672e+08\n",
       "Name: ALL_SUM, Length: 436798, dtype: float64"
      ]
     },
     "execution_count": 30,
     "metadata": {},
     "output_type": "execute_result"
    }
   ],
   "source": [
    "df_all['ALL_SUM']"
   ]
  },
  {
   "cell_type": "code",
   "execution_count": 31,
   "metadata": {
    "collapsed": false,
    "scrolled": true
   },
   "outputs": [],
   "source": [
    "df_all.to_csv(\"df_data_all_finaly.csv\",index=False,index_label=False)"
   ]
  },
  {
   "cell_type": "code",
   "execution_count": null,
   "metadata": {
    "collapsed": false
   },
   "outputs": [],
   "source": []
  },
  {
   "cell_type": "code",
   "execution_count": null,
   "metadata": {
    "collapsed": true
   },
   "outputs": [],
   "source": []
  }
 ],
 "metadata": {
  "anaconda-cloud": {},
  "kernelspec": {
   "display_name": "Python [conda root]",
   "language": "python",
   "name": "conda-root-py"
  },
  "language_info": {
   "codemirror_mode": {
    "name": "ipython",
    "version": 3
   },
   "file_extension": ".py",
   "mimetype": "text/x-python",
   "name": "python",
   "nbconvert_exporter": "python",
   "pygments_lexer": "ipython3",
   "version": "3.5.2"
  }
 },
 "nbformat": 4,
 "nbformat_minor": 1
}
