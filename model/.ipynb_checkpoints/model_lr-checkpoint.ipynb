{
 "cells": [
  {
   "cell_type": "markdown",
   "metadata": {},
   "source": [
    "### 根据xbgstack的生成的50个融合特征，进行LR和朴素贝叶斯预测。"
   ]
  },
  {
   "cell_type": "code",
   "execution_count": 1,
   "metadata": {
    "collapsed": true
   },
   "outputs": [],
   "source": [
    "import pandas as pd\n",
    "import numpy as np\n",
    "\n",
    "from sklearn.linear_model import LogisticRegression\n",
    "from sklearn.naive_bayes import GaussianNB"
   ]
  },
  {
   "cell_type": "code",
   "execution_count": 2,
   "metadata": {
    "collapsed": true
   },
   "outputs": [],
   "source": [
    "df_all = pd.read_csv(\"../data/alldata/df_data_plus_all_xgbstack.csv\")\n"
   ]
  },
  {
   "cell_type": "code",
   "execution_count": 3,
   "metadata": {
    "collapsed": false
   },
   "outputs": [
    {
     "data": {
      "text/plain": [
       "Index(['PROV', 'EID', 'RGYEAR', 'HY', 'ZCZB', 'ETYPE', 'MPNUM', 'INUM', 'ENUM',\n",
       "       'FINZB',\n",
       "       ...\n",
       "       'STACKFEATURE40', 'STACKFEATURE41', 'STACKFEATURE42', 'STACKFEATURE43',\n",
       "       'STACKFEATURE44', 'STACKFEATURE45', 'STACKFEATURE46', 'STACKFEATURE47',\n",
       "       'STACKFEATURE48', 'STACKFEATURE49'],\n",
       "      dtype='object', length=593)"
      ]
     },
     "execution_count": 3,
     "metadata": {},
     "output_type": "execute_result"
    }
   ],
   "source": [
    "df_all.columns"
   ]
  },
  {
   "cell_type": "code",
   "execution_count": 4,
   "metadata": {
    "collapsed": true
   },
   "outputs": [],
   "source": [
    "features = ['STACKFEATURE' + str(i) for i in range(50)]\n",
    "features.append('EID')\n",
    "label = \"TARGET\""
   ]
  },
  {
   "cell_type": "code",
   "execution_count": 5,
   "metadata": {
    "collapsed": true
   },
   "outputs": [],
   "source": [
    "def xtrain_and_test(df_all):\n",
    "    '''\n",
    "    得到训练数据和测试数据\n",
    "    '''\n",
    "    df_label = pd.read_csv('../data/public/train.csv')\n",
    "    df_test_label = pd.read_csv('../data/public/evaluation_public.csv')\n",
    "\n",
    "    df_label.drop('ENDDATE',axis=1,inplace=True)\n",
    "    \n",
    "    df_train = df_all[df_all['EID'].isin(df_label['EID'])]\n",
    "    df_test = df_all[df_all['EID'].isin(df_test_label['EID'])]\n",
    "    \n",
    "    df_train = pd.merge(df_train,df_label,how='left',on=['EID'])\n",
    "    \n",
    "    return df_train,df_test\n"
   ]
  },
  {
   "cell_type": "code",
   "execution_count": 6,
   "metadata": {
    "collapsed": true
   },
   "outputs": [],
   "source": [
    "df_train,df_test = xtrain_and_test(df_all[features])"
   ]
  },
  {
   "cell_type": "code",
   "execution_count": 35,
   "metadata": {
    "collapsed": false
   },
   "outputs": [
    {
     "name": "stdout",
     "output_type": "stream",
     "text": [
      "0.13598211340395117\n",
      "0.8640178865960488\n"
     ]
    }
   ],
   "source": [
    "print(len(df_train[df_train[label]==1]) / len(df_train))\n",
    "print(len(df_train[df_train[label]==0]) / len(df_train))"
   ]
  },
  {
   "cell_type": "code",
   "execution_count": 7,
   "metadata": {
    "collapsed": false
   },
   "outputs": [
    {
     "data": {
      "text/html": [
       "<div>\n",
       "<style>\n",
       "    .dataframe thead tr:only-child th {\n",
       "        text-align: right;\n",
       "    }\n",
       "\n",
       "    .dataframe thead th {\n",
       "        text-align: left;\n",
       "    }\n",
       "\n",
       "    .dataframe tbody tr th {\n",
       "        vertical-align: top;\n",
       "    }\n",
       "</style>\n",
       "<table border=\"1\" class=\"dataframe\">\n",
       "  <thead>\n",
       "    <tr style=\"text-align: right;\">\n",
       "      <th></th>\n",
       "      <th>STACKFEATURE0</th>\n",
       "      <th>STACKFEATURE1</th>\n",
       "      <th>STACKFEATURE2</th>\n",
       "      <th>STACKFEATURE3</th>\n",
       "      <th>STACKFEATURE4</th>\n",
       "      <th>STACKFEATURE5</th>\n",
       "      <th>STACKFEATURE6</th>\n",
       "      <th>STACKFEATURE7</th>\n",
       "      <th>STACKFEATURE8</th>\n",
       "      <th>STACKFEATURE9</th>\n",
       "      <th>...</th>\n",
       "      <th>STACKFEATURE42</th>\n",
       "      <th>STACKFEATURE43</th>\n",
       "      <th>STACKFEATURE44</th>\n",
       "      <th>STACKFEATURE45</th>\n",
       "      <th>STACKFEATURE46</th>\n",
       "      <th>STACKFEATURE47</th>\n",
       "      <th>STACKFEATURE48</th>\n",
       "      <th>STACKFEATURE49</th>\n",
       "      <th>EID</th>\n",
       "      <th>TARGET</th>\n",
       "    </tr>\n",
       "  </thead>\n",
       "  <tbody>\n",
       "    <tr>\n",
       "      <th>0</th>\n",
       "      <td>209</td>\n",
       "      <td>215</td>\n",
       "      <td>198</td>\n",
       "      <td>189</td>\n",
       "      <td>211</td>\n",
       "      <td>221</td>\n",
       "      <td>196</td>\n",
       "      <td>216</td>\n",
       "      <td>214</td>\n",
       "      <td>215</td>\n",
       "      <td>...</td>\n",
       "      <td>185</td>\n",
       "      <td>154</td>\n",
       "      <td>201</td>\n",
       "      <td>146</td>\n",
       "      <td>182</td>\n",
       "      <td>156</td>\n",
       "      <td>188</td>\n",
       "      <td>165</td>\n",
       "      <td>p13836</td>\n",
       "      <td>0</td>\n",
       "    </tr>\n",
       "    <tr>\n",
       "      <th>1</th>\n",
       "      <td>226</td>\n",
       "      <td>221</td>\n",
       "      <td>120</td>\n",
       "      <td>208</td>\n",
       "      <td>218</td>\n",
       "      <td>228</td>\n",
       "      <td>216</td>\n",
       "      <td>220</td>\n",
       "      <td>207</td>\n",
       "      <td>212</td>\n",
       "      <td>...</td>\n",
       "      <td>196</td>\n",
       "      <td>189</td>\n",
       "      <td>221</td>\n",
       "      <td>142</td>\n",
       "      <td>200</td>\n",
       "      <td>183</td>\n",
       "      <td>134</td>\n",
       "      <td>205</td>\n",
       "      <td>p7320</td>\n",
       "      <td>0</td>\n",
       "    </tr>\n",
       "    <tr>\n",
       "      <th>2</th>\n",
       "      <td>210</td>\n",
       "      <td>215</td>\n",
       "      <td>198</td>\n",
       "      <td>193</td>\n",
       "      <td>211</td>\n",
       "      <td>221</td>\n",
       "      <td>199</td>\n",
       "      <td>216</td>\n",
       "      <td>213</td>\n",
       "      <td>215</td>\n",
       "      <td>...</td>\n",
       "      <td>186</td>\n",
       "      <td>157</td>\n",
       "      <td>202</td>\n",
       "      <td>146</td>\n",
       "      <td>154</td>\n",
       "      <td>177</td>\n",
       "      <td>177</td>\n",
       "      <td>162</td>\n",
       "      <td>p120116</td>\n",
       "      <td>0</td>\n",
       "    </tr>\n",
       "    <tr>\n",
       "      <th>3</th>\n",
       "      <td>177</td>\n",
       "      <td>173</td>\n",
       "      <td>190</td>\n",
       "      <td>193</td>\n",
       "      <td>192</td>\n",
       "      <td>177</td>\n",
       "      <td>199</td>\n",
       "      <td>216</td>\n",
       "      <td>214</td>\n",
       "      <td>215</td>\n",
       "      <td>...</td>\n",
       "      <td>185</td>\n",
       "      <td>154</td>\n",
       "      <td>196</td>\n",
       "      <td>146</td>\n",
       "      <td>136</td>\n",
       "      <td>174</td>\n",
       "      <td>177</td>\n",
       "      <td>124</td>\n",
       "      <td>p197225</td>\n",
       "      <td>0</td>\n",
       "    </tr>\n",
       "    <tr>\n",
       "      <th>4</th>\n",
       "      <td>210</td>\n",
       "      <td>215</td>\n",
       "      <td>198</td>\n",
       "      <td>194</td>\n",
       "      <td>211</td>\n",
       "      <td>221</td>\n",
       "      <td>200</td>\n",
       "      <td>220</td>\n",
       "      <td>214</td>\n",
       "      <td>215</td>\n",
       "      <td>...</td>\n",
       "      <td>199</td>\n",
       "      <td>157</td>\n",
       "      <td>218</td>\n",
       "      <td>145</td>\n",
       "      <td>182</td>\n",
       "      <td>200</td>\n",
       "      <td>189</td>\n",
       "      <td>170</td>\n",
       "      <td>p154162</td>\n",
       "      <td>0</td>\n",
       "    </tr>\n",
       "  </tbody>\n",
       "</table>\n",
       "<p>5 rows × 52 columns</p>\n",
       "</div>"
      ],
      "text/plain": [
       "   STACKFEATURE0  STACKFEATURE1  STACKFEATURE2  STACKFEATURE3  STACKFEATURE4  \\\n",
       "0            209            215            198            189            211   \n",
       "1            226            221            120            208            218   \n",
       "2            210            215            198            193            211   \n",
       "3            177            173            190            193            192   \n",
       "4            210            215            198            194            211   \n",
       "\n",
       "   STACKFEATURE5  STACKFEATURE6  STACKFEATURE7  STACKFEATURE8  STACKFEATURE9  \\\n",
       "0            221            196            216            214            215   \n",
       "1            228            216            220            207            212   \n",
       "2            221            199            216            213            215   \n",
       "3            177            199            216            214            215   \n",
       "4            221            200            220            214            215   \n",
       "\n",
       "    ...    STACKFEATURE42  STACKFEATURE43  STACKFEATURE44  STACKFEATURE45  \\\n",
       "0   ...               185             154             201             146   \n",
       "1   ...               196             189             221             142   \n",
       "2   ...               186             157             202             146   \n",
       "3   ...               185             154             196             146   \n",
       "4   ...               199             157             218             145   \n",
       "\n",
       "   STACKFEATURE46  STACKFEATURE47  STACKFEATURE48  STACKFEATURE49      EID  \\\n",
       "0             182             156             188             165   p13836   \n",
       "1             200             183             134             205    p7320   \n",
       "2             154             177             177             162  p120116   \n",
       "3             136             174             177             124  p197225   \n",
       "4             182             200             189             170  p154162   \n",
       "\n",
       "   TARGET  \n",
       "0       0  \n",
       "1       0  \n",
       "2       0  \n",
       "3       0  \n",
       "4       0  \n",
       "\n",
       "[5 rows x 52 columns]"
      ]
     },
     "execution_count": 7,
     "metadata": {},
     "output_type": "execute_result"
    }
   ],
   "source": [
    "df_train.head()"
   ]
  },
  {
   "cell_type": "code",
   "execution_count": 17,
   "metadata": {
    "collapsed": true
   },
   "outputs": [],
   "source": [
    "gnb = GaussianNB()"
   ]
  },
  {
   "cell_type": "code",
   "execution_count": null,
   "metadata": {
    "collapsed": false
   },
   "outputs": [
    {
     "name": "stdout",
     "output_type": "stream",
     "text": [
      "[LibLinear]"
     ]
    }
   ],
   "source": [
    "lr = LogisticRegression(verbose=5,n_jobs=3,class_weight={1:0.8640178865960488,0:0.13598211340395117},penalty='l1')\n",
    "\n",
    "lr.fit(df_train[features[:50]],df_train[label])\n",
    "gnb.fit(df_train[features[:50]],df_train[label])"
   ]
  },
  {
   "cell_type": "code",
   "execution_count": 37,
   "metadata": {
    "collapsed": true
   },
   "outputs": [],
   "source": [
    "proba_lr = lr.predict_proba(df_test[features[0:50]])\n",
    "proba_gnb = gnb.predict_proba(df_test[features[0:50]])\n",
    "\n"
   ]
  },
  {
   "cell_type": "code",
   "execution_count": 38,
   "metadata": {
    "collapsed": true
   },
   "outputs": [],
   "source": [
    "prob_lr = proba_lr[:,0]\n",
    "prob_gnb = proba_gnb[:,0]\n"
   ]
  },
  {
   "cell_type": "code",
   "execution_count": 39,
   "metadata": {
    "collapsed": false
   },
   "outputs": [
    {
     "data": {
      "text/plain": [
       "array([ 0.97860149,  0.96988504,  0.99274635, ...,  0.97744624,\n",
       "        0.9670601 ,  0.97457574])"
      ]
     },
     "execution_count": 39,
     "metadata": {},
     "output_type": "execute_result"
    }
   ],
   "source": [
    "prob_lr"
   ]
  },
  {
   "cell_type": "code",
   "execution_count": 40,
   "metadata": {
    "collapsed": false
   },
   "outputs": [
    {
     "data": {
      "text/plain": [
       "0.61850455532159188"
      ]
     },
     "execution_count": 40,
     "metadata": {},
     "output_type": "execute_result"
    }
   ],
   "source": [
    "np.mean(prob_gnb)"
   ]
  },
  {
   "cell_type": "code",
   "execution_count": 41,
   "metadata": {
    "collapsed": false
   },
   "outputs": [
    {
     "data": {
      "text/plain": [
       "218247"
      ]
     },
     "execution_count": 41,
     "metadata": {},
     "output_type": "execute_result"
    }
   ],
   "source": [
    "np.sum(prob_lr > 0.5)"
   ]
  },
  {
   "cell_type": "code",
   "execution_count": 26,
   "metadata": {
    "collapsed": false
   },
   "outputs": [
    {
     "data": {
      "text/plain": [
       "136576"
      ]
     },
     "execution_count": 26,
     "metadata": {},
     "output_type": "execute_result"
    }
   ],
   "source": [
    "np.sum(prob_gnb > 0.5)"
   ]
  },
  {
   "cell_type": "code",
   "execution_count": null,
   "metadata": {
    "collapsed": true
   },
   "outputs": [],
   "source": []
  }
 ],
 "metadata": {
  "anaconda-cloud": {},
  "kernelspec": {
   "display_name": "Python [conda root]",
   "language": "python",
   "name": "conda-root-py"
  },
  "language_info": {
   "codemirror_mode": {
    "name": "ipython",
    "version": 3
   },
   "file_extension": ".py",
   "mimetype": "text/x-python",
   "name": "python",
   "nbconvert_exporter": "python",
   "pygments_lexer": "ipython3",
   "version": "3.5.2"
  }
 },
 "nbformat": 4,
 "nbformat_minor": 1
}
